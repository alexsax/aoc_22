{
 "cells": [
  {
   "cell_type": "code",
   "execution_count": 113,
   "id": "e25260f4-97b9-4862-901d-15df94bc13af",
   "metadata": {},
   "outputs": [],
   "source": [
    "import numpy as np\n",
    "from tqdm import tqdm\n",
    "import numba\n",
    "from collections import deque\n",
    "%load_ext line_profiler\n",
    "%load_ext memory_profiler"
   ]
  },
  {
   "cell_type": "code",
   "execution_count": 151,
   "id": "8fdd9094-d1a4-4c57-a930-2b85f2a21153",
   "metadata": {},
   "outputs": [],
   "source": [
    "from numba import jit"
   ]
  },
  {
   "cell_type": "code",
   "execution_count": 260,
   "id": "9f172542-15fd-44b9-9065-5a49f4db8ce9",
   "metadata": {},
   "outputs": [],
   "source": [
    "\n",
    "MONKEYS = []\n",
    "\n",
    "class Monkey:\n",
    "    def __init__(self, starting_items, operation, test_mod, if_true, if_false):\n",
    "        self._operation = compile(operation.lstrip(), '<string>', 'eval')\n",
    "        self._operation = operation\n",
    "        self.starting_items = deque(starting_items)\n",
    "        self.if_true = if_true\n",
    "        self.if_false = if_false\n",
    "        self.n_inspections = 0\n",
    "        self.test_mod = test_mod\n",
    "\n",
    "    def operation(self, old):\n",
    "        return eval(self._operation)\n",
    "\n",
    "    def turn_item(self, worry):\n",
    "        self.n_inspections += 1\n",
    "        worry = self.operation(worry)\n",
    "        worry = worry #// 3 # Relief\n",
    "        worry = worry % self.WORRY_MOD\n",
    "        new_monkey_idx = self.if_true if (worry % self.test_mod == 0) else self.if_false\n",
    "        MONKEYS[new_monkey_idx].starting_items.append(worry)\n",
    "\n",
    "    def turn(self, debug=False):\n",
    "        while len(self.starting_items) > 0:\n",
    "            if debug: print(len(self.starting_items))\n",
    "            item = self.starting_items.popleft()\n",
    "            self.turn_item(item)\n",
    "    \n",
    "def run_round():\n",
    "    for monkey in MONKEYS:\n",
    "        monkey.turn()\n",
    "\n",
    "inputs[0].split('\\n')\n",
    "def parse_monkey(in_str):\n",
    "    test_mod = int(in_str[3].split()[-1])\n",
    "    monkey = Monkey(\n",
    "        starting_items = [int(v) for v in in_str[1].replace('  Starting items: ', '').split(', ')],\n",
    "        operation = in_str[2].replace('Operation: new = ', ''),\n",
    "        test_mod = test_mod,\n",
    "        if_true = int(in_str[4].split()[-1]), \n",
    "        if_false = int(in_str[5].split()[-1]),\n",
    "    )\n",
    "    return monkey \n",
    "\n",
    "for _input in inputs:\n",
    "    MONKEYS.append(parse_monkey(_input.split('\\n')))\n",
    "\n",
    "WORRY_MOD = np.prod([m.test_mod for m in MONKEYS])\n",
    "for m in MONKEYS:\n",
    "    m.WORRY_MOD = WORRY_MOD"
   ]
  },
  {
   "cell_type": "code",
   "execution_count": null,
   "id": "aa1e7fed-1b61-4f69-86cf-5153bc076317",
   "metadata": {},
   "outputs": [
    {
     "name": "stderr",
     "output_type": "stream",
     "text": [
      " 62%|██████▏   | 6194/10000 [00:01<00:00, 4142.00it/s]"
     ]
    }
   ],
   "source": [
    "import time\n",
    "for i in tqdm(range(10000)):\n",
    "    start = time.time()\n",
    "    run_round()\n",
    "    end = time.time()\n",
    "    if end - start > 0.2: print(i, len(MONKEYS), sum([len(m.starting_items) for m in MONKEYS]), end - start)"
   ]
  },
  {
   "cell_type": "code",
   "execution_count": 259,
   "id": "160f0792-c494-4a46-96e3-89bcdd0cffed",
   "metadata": {},
   "outputs": [
    {
     "name": "stdout",
     "output_type": "stream",
     "text": [
      "116421 deque([2441858, 2735544, 8326142, 3209784, 756580, 6319020, 9006380, 4253207, 2581511, 1978337, 1978337, 4526503, 3771253, 3771253])\n",
      "  old * 13\n",
      "23734 deque([])\n",
      "  old * old\n",
      "112859 deque([2928441, 2928441, 2645096, 3084028, 7014071, 1830035, 1830035, 9427410])\n",
      "  old + 7\n",
      "106904 deque([135853, 135853, 6821649, 842273, 8326126, 756564, 756564, 6319004, 646402, 646402, 9405763])\n",
      "  old + 4\n",
      "57020 deque([])\n",
      "  old * 19\n",
      "109357 deque([])\n",
      "  old + 3\n",
      "121166 deque([8985868, 8985868, 2928436])\n",
      "  old + 5\n",
      "22573 deque([])\n",
      "  old + 1\n"
     ]
    },
    {
     "data": {
      "text/plain": [
       "14106266886"
      ]
     },
     "execution_count": 259,
     "metadata": {},
     "output_type": "execute_result"
    }
   ],
   "source": [
    "for monkey in MONKEYS:\n",
    "    print(monkey.n_inspections, monkey.starting_items)\n",
    "monkey_business = np.prod(sorted([m.n_inspections for m in MONKEYS])[-2:])\n",
    "monkey_business"
   ]
  },
  {
   "cell_type": "code",
   "execution_count": 256,
   "id": "4d2e9001-6594-4d90-9f1d-fad007b2be48",
   "metadata": {},
   "outputs": [],
   "source": [
    "inputs = '''Monkey 0:\n",
    "  Starting items: 91, 58, 52, 69, 95, 54\n",
    "  Operation: new = old * 13\n",
    "  Test: divisible by 7\n",
    "    If true: throw to monkey 1\n",
    "    If false: throw to monkey 5\n",
    "\n",
    "Monkey 1:\n",
    "  Starting items: 80, 80, 97, 84\n",
    "  Operation: new = old * old\n",
    "  Test: divisible by 3\n",
    "    If true: throw to monkey 3\n",
    "    If false: throw to monkey 5\n",
    "\n",
    "Monkey 2:\n",
    "  Starting items: 86, 92, 71\n",
    "  Operation: new = old + 7\n",
    "  Test: divisible by 2\n",
    "    If true: throw to monkey 0\n",
    "    If false: throw to monkey 4\n",
    "\n",
    "Monkey 3:\n",
    "  Starting items: 96, 90, 99, 76, 79, 85, 98, 61\n",
    "  Operation: new = old + 4\n",
    "  Test: divisible by 11\n",
    "    If true: throw to monkey 7\n",
    "    If false: throw to monkey 6\n",
    "\n",
    "Monkey 4:\n",
    "  Starting items: 60, 83, 68, 64, 73\n",
    "  Operation: new = old * 19\n",
    "  Test: divisible by 17\n",
    "    If true: throw to monkey 1\n",
    "    If false: throw to monkey 0\n",
    "\n",
    "Monkey 5:\n",
    "  Starting items: 96, 52, 52, 94, 76, 51, 57\n",
    "  Operation: new = old + 3\n",
    "  Test: divisible by 5\n",
    "    If true: throw to monkey 7\n",
    "    If false: throw to monkey 3\n",
    "\n",
    "Monkey 6:\n",
    "  Starting items: 75\n",
    "  Operation: new = old + 5\n",
    "  Test: divisible by 13\n",
    "    If true: throw to monkey 4\n",
    "    If false: throw to monkey 2\n",
    "\n",
    "Monkey 7:\n",
    "  Starting items: 83, 75\n",
    "  Operation: new = old + 1\n",
    "  Test: divisible by 19\n",
    "    If true: throw to monkey 2\n",
    "    If false: throw to monkey 6'''.split('\\n\\n')"
   ]
  },
  {
   "cell_type": "code",
   "execution_count": 90,
   "id": "f685af31-0029-4eab-9306-5cda72c056f2",
   "metadata": {},
   "outputs": [],
   "source": [
    "inputs = '''Monkey 0:\n",
    "  Starting items: 79, 98\n",
    "  Operation: new = old * 19\n",
    "  Test: divisible by 23\n",
    "    If true: throw to monkey 2\n",
    "    If false: throw to monkey 3\n",
    "\n",
    "Monkey 1:\n",
    "  Starting items: 54, 65, 75, 74\n",
    "  Operation: new = old + 6\n",
    "  Test: divisible by 19\n",
    "    If true: throw to monkey 2\n",
    "    If false: throw to monkey 0\n",
    "\n",
    "Monkey 2:\n",
    "  Starting items: 79, 60, 97\n",
    "  Operation: new = old * old\n",
    "  Test: divisible by 13\n",
    "    If true: throw to monkey 1\n",
    "    If false: throw to monkey 3\n",
    "\n",
    "Monkey 3:\n",
    "  Starting items: 74\n",
    "  Operation: new = old + 3\n",
    "  Test: divisible by 17\n",
    "    If true: throw to monkey 0\n",
    "    If false: throw to monkey 1'''.split('\\n\\n')"
   ]
  },
  {
   "cell_type": "code",
   "execution_count": null,
   "id": "f11b4e88-881a-4788-b548-8b339ef39e2c",
   "metadata": {},
   "outputs": [],
   "source": []
  }
 ],
 "metadata": {
  "kernelspec": {
   "display_name": "Python 3",
   "language": "python",
   "name": "python3"
  },
  "language_info": {
   "codemirror_mode": {
    "name": "ipython",
    "version": 3
   },
   "file_extension": ".py",
   "mimetype": "text/x-python",
   "name": "python",
   "nbconvert_exporter": "python",
   "pygments_lexer": "ipython3",
   "version": "3.8.15"
  }
 },
 "nbformat": 4,
 "nbformat_minor": 5
}
