{
 "cells": [
  {
   "cell_type": "code",
   "execution_count": 37,
   "id": "5306ef24-dff1-4c08-b729-777ad59bf541",
   "metadata": {},
   "outputs": [],
   "source": [
    "import numpy as np\n",
    "np.set_printoptions(edgeitems=10,linewidth=390)\n"
   ]
  },
  {
   "cell_type": "code",
   "execution_count": 261,
   "id": "72e2007e-fd03-4cba-ba4e-227a3d5e3ec3",
   "metadata": {},
   "outputs": [
    {
     "name": "stderr",
     "output_type": "stream",
     "text": [
      " 35%|███▌      | 751340/2125935 [00:15<00:28, 47976.02it/s]"
     ]
    },
    {
     "name": "stdout",
     "output_type": "stream",
     "text": [
      "Found beacon: (2740279, 2625406)\n",
      "Tuning freq: 10961118625406\n"
     ]
    },
    {
     "name": "stderr",
     "output_type": "stream",
     "text": [
      "\n"
     ]
    }
   ],
   "source": [
    "def create_ball_mask(h, w, center=None, radius=None):\n",
    "\n",
    "    if center is None: # use the middle of the image\n",
    "        center = (int(w/2), int(h/2))\n",
    "    if radius is None: # use the smallest distance between the center and image walls\n",
    "        radius = min(center[0], center[1], w-center[0], h-center[1])\n",
    "\n",
    "    Y, X = np.ogrid[:h, :w]\n",
    "    # dist_from_center = np.sqrt((X - center[0])**2 + (Y-center[1])**2)\n",
    "    dist_from_center = np.abs(X - center[0]) + np.abs(Y-center[1])\n",
    "\n",
    "    mask = dist_from_center <= radius\n",
    "    return mask\n",
    "\n",
    "\n",
    "scans = []\n",
    "sensor_locs = []\n",
    "beacon_locs = []\n",
    "'Sensor at x=2, y=18: closest beacon is at x=-2, y=15'\n",
    "for i, scan_txt in enumerate(inputs.split('\\n')):\n",
    "    # if i != 6: continue\n",
    "    sensor_loc, beacon_loc = [toks.split('at ')[1] for toks in scan_txt.split(':')]\n",
    "    sensor_locs.append([int(v.split('=')[1]) for v in sensor_loc.split(', ')])\n",
    "    beacon_locs.append([int(v.split('=')[1]) for v in beacon_loc.split(', ')])\n",
    "sensor_locs = np.array(sensor_locs)\n",
    "beacon_locs = np.array(beacon_locs)\n",
    "detection_dists = np.abs((beacon_locs - sensor_locs)).sum(axis=-1)\n",
    "\n",
    "\n",
    "locs = np.concatenate([sensor_locs, beacon_locs])\n",
    "xmin, xmax = (sensor_locs[:,0] - detection_dists ).min(), (sensor_locs[:,0] + detection_dists + 0).max()\n",
    "ymin, ymax = (sensor_locs[:,1] - detection_dists ).min(), (sensor_locs[:,1] + detection_dists + 0).max()\n",
    "\n",
    "axis_mins = np.array([xmin, ymin])\n",
    "\n",
    "# combined_map = np.zeros((xmax - xmin + 1, ymax - ymin + 1), np.int32)\n",
    "\n",
    "\n",
    "# for i, scanner, beacon, dist in zip(range(len(sensor_locs)), sensor_locs, beacon_locs, detection_dists):\n",
    "#     # if i >= 1: continue\n",
    "#     idx_beacon = beacon - axis_mins\n",
    "#     idx = scanner - axis_mins\n",
    "#     start = tuple(idx - dist)\n",
    "#     end = tuple(idx + dist + 1)\n",
    "#     # print(start, end, dist, scanner)\n",
    "#     h_lo, h_hi = max(start[0],0), min(end[0], combined_map.shape[0])\n",
    "#     w_lo, w_hi = max(start[1],0), min(end[1], combined_map.shape[1])\n",
    "#     center = (idx[0] - h_lo, idx[1] - w_lo)\n",
    "#     mask = create_ball_mask(h_hi - h_lo, w_hi - w_lo, center=center, radius = dist)\n",
    "#     combined_map[h_lo:h_hi, w_lo:w_hi][mask] = 1\n",
    "#     # combined_map[tuple(idx)] = -1\n",
    "#     combined_map[tuple(idx_beacon)] = -2\n",
    "\n",
    "# sensor_locs\n",
    "# (combined_map.T[10 - axis_mins[1]] > 0).sum()\n",
    "import multirange as mr\n",
    "from tqdm import tqdm\n",
    "for y_idx in tqdm(range(1874066,4000000 + 1)):\n",
    "    # y_idx = 2000000 #10\n",
    "    y_idx_exp = np.array([y_idx] * len(sensor_locs))\n",
    "\n",
    "    x_dist = detection_dists - np.abs((sensor_locs[:,1] - y_idx))\n",
    "    valid = x_dist > 0\n",
    "    x_lo = sensor_locs[:,0] - x_dist\n",
    "    x_hi = sensor_locs[:,0] + x_dist\n",
    "\n",
    "    # # For part 1 we need this, but part 2 doesnt since the distress beacon isnt a detected beacon\n",
    "    # x_lo[np.all(beacon_locs == np.stack([x_lo, y_idx_exp], axis=-1), axis=-1)] += 1\n",
    "    # x_hi[np.all(beacon_locs == np.stack([x_hi, y_idx_exp], axis=-1), axis=-1)] -= 1\n",
    "    # _mr = list(mr.normalize_multi([range(_lo, _hi) for _lo, _hi in zip(x_lo[valid], x_hi[valid] + 1)]))\n",
    "    # count = sum([len(r) for r in _mr])\n",
    "\n",
    "    # Part 2\n",
    "    _mr = list(mr.normalize_multi([range(_lo, _hi) for _lo, _hi in zip(x_lo[valid], x_hi[valid] + 1)]))\n",
    "    intersect = list(mr.multi_intersection(_mr, [range(0,4000000 + 1)]))\n",
    "    if len(intersect) > 1:\n",
    "        assert(len(intersect) == 2)\n",
    "        print('Found beacon:', (intersect[0].stop, y_idx))\n",
    "        print('Tuning freq:', (intersect[0].stop) * 4000000 + y_idx)\n",
    "        break"
   ]
  },
  {
   "cell_type": "code",
   "execution_count": 226,
   "id": "c1f63243-d7e2-446e-9199-dd8dfcc45e9f",
   "metadata": {},
   "outputs": [],
   "source": [
    "\n",
    "# class MultiRange():\n",
    "#     def __init__(self, ranges):\n",
    "#         self.ranges_sorted = []\n",
    "    \n",
    "#     def update(self, value):\n",
    "        \n",
    "#         extended = False\n",
    "#         for _range in self.ranges_sorted:\n",
    "#             if   value[1] < _range[0] or _range[1] < value[0]: continue # disjoint\n",
    "#             elif _range[0] <= value[0] and value[1] <= _range[1]: return # included\n",
    "#             elif _range[0] <= value[0] and _range[1] <= value[1]: "
   ]
  },
  {
   "cell_type": "code",
   "execution_count": 228,
   "id": "dda23c04-3089-453a-b39d-ad83f2e030e7",
   "metadata": {},
   "outputs": [
    {
     "data": {
      "text/plain": [
       "26"
      ]
     },
     "execution_count": 228,
     "metadata": {},
     "output_type": "execute_result"
    }
   ],
   "source": [
    "# !pip install multirange\n",
    "# np.stack([x_lo[valid], x_hi[valid]], axis=-1)\n",
    "# [len(r) for r in list(_mr)]\n",
    "# count"
   ]
  },
  {
   "cell_type": "code",
   "execution_count": 191,
   "id": "1953dbd3-2b51-48e0-8bfc-6e314769aeca",
   "metadata": {},
   "outputs": [],
   "source": [
    "# beacon_locs[:,0][valid] - x_lo[valid]\n",
    "# x_dist\n",
    "# valid\n",
    "# detection_dists"
   ]
  },
  {
   "cell_type": "code",
   "execution_count": 206,
   "id": "d5f55e1f-5a1e-4f4a-a045-67e187b3dd1b",
   "metadata": {},
   "outputs": [
    {
     "data": {
      "text/plain": [
       "20"
      ]
     },
     "execution_count": 206,
     "metadata": {},
     "output_type": "execute_result"
    }
   ],
   "source": [
    "# sensor_locs = np.array(sensor_locs)\n",
    "# beacon_locs = np.array(beacon_locs)\n",
    "# detection_dists = np.abs((beacon_locs - sensor_locs)).sum(axis=-1)\n",
    "10 - axis_mins[1]"
   ]
  },
  {
   "cell_type": "code",
   "execution_count": 124,
   "id": "57607671-8f61-410f-9338-d701f46eb788",
   "metadata": {},
   "outputs": [
    {
     "name": "stdout",
     "output_type": "stream",
     "text": [
      "..........#..........................\n",
      ".........###.........................\n",
      "........#####........................\n",
      ".......#######.......................\n",
      "......#########.............#........\n",
      ".....###########...........###.......\n",
      "....#############.........#####......\n",
      "...###############.......#######.....\n",
      "..#################.....#########....\n",
      ".###################.#.###########...\n",
      "###################################..\n",
      ".###################################.\n",
      "..#################################..\n",
      "...####################.##########...\n",
      "....#############################....\n",
      ".....###########################.....\n",
      "......#########################......\n",
      ".......#######################.......\n",
      "........#######################......\n",
      ".......#########################.....\n",
      "......####.######################....\n",
      ".....#################.###########...\n",
      "......#############################..\n",
      ".......#############################.\n",
      ".......##############################\n",
      ".......#############################.\n",
      ".....#############.################..\n",
      "....#############################....\n",
      "...##############################....\n",
      "....############################.....\n",
      ".....###########################.....\n",
      "......#########################......\n",
      ".......#######..#############........\n",
      "........#####....###..#######........\n",
      ".........###......#....#####.........\n",
      "..........#.............###..........\n",
      ".........................#...........\n"
     ]
    }
   ],
   "source": [
    "def print_map(combined_map):\n",
    "    for row in combined_map:\n",
    "        print(''.join(['.' if rowv <= 0 else '#' for rowv in row]))\n",
    "\n",
    "# print_map([combined_map.T[10 - axis_mins[1]]])\n",
    "print_map(combined_map.T)\n",
    "# [combined_map.T[10 - axis_mins[1]]]"
   ]
  },
  {
   "cell_type": "code",
   "execution_count": 200,
   "id": "2893142e-5bad-499d-99eb-f6d32cd6cd44",
   "metadata": {},
   "outputs": [],
   "source": [
    "inputs = '''Sensor at x=2, y=18: closest beacon is at x=-2, y=15\n",
    "Sensor at x=9, y=16: closest beacon is at x=10, y=16\n",
    "Sensor at x=13, y=2: closest beacon is at x=15, y=3\n",
    "Sensor at x=12, y=14: closest beacon is at x=10, y=16\n",
    "Sensor at x=10, y=20: closest beacon is at x=10, y=16\n",
    "Sensor at x=14, y=17: closest beacon is at x=10, y=16\n",
    "Sensor at x=8, y=7: closest beacon is at x=2, y=10\n",
    "Sensor at x=2, y=0: closest beacon is at x=2, y=10\n",
    "Sensor at x=0, y=11: closest beacon is at x=2, y=10\n",
    "Sensor at x=20, y=14: closest beacon is at x=25, y=17\n",
    "Sensor at x=17, y=20: closest beacon is at x=21, y=22\n",
    "Sensor at x=16, y=7: closest beacon is at x=15, y=3\n",
    "Sensor at x=14, y=3: closest beacon is at x=15, y=3\n",
    "Sensor at x=20, y=1: closest beacon is at x=15, y=3'''\n"
   ]
  },
  {
   "cell_type": "code",
   "execution_count": 229,
   "id": "d32bc244-2dca-4897-b293-e983f9ce89cf",
   "metadata": {},
   "outputs": [],
   "source": [
    "inputs = '''Sensor at x=2692921, y=2988627: closest beacon is at x=2453611, y=3029623\n",
    "Sensor at x=1557973, y=1620482: closest beacon is at x=1908435, y=2403457\n",
    "Sensor at x=278431, y=3878878: closest beacon is at x=-1050422, y=3218536\n",
    "Sensor at x=1432037, y=3317707: closest beacon is at x=2453611, y=3029623\n",
    "Sensor at x=3191434, y=3564121: closest beacon is at x=3420256, y=2939344\n",
    "Sensor at x=3080887, y=2781756: closest beacon is at x=3420256, y=2939344\n",
    "Sensor at x=3543287, y=3060807: closest beacon is at x=3420256, y=2939344\n",
    "Sensor at x=2476158, y=3949016: closest beacon is at x=2453611, y=3029623\n",
    "Sensor at x=3999769, y=3985671: closest beacon is at x=3420256, y=2939344\n",
    "Sensor at x=2435331, y=2200565: closest beacon is at x=1908435, y=2403457\n",
    "Sensor at x=3970047, y=2036397: closest beacon is at x=3691788, y=1874066\n",
    "Sensor at x=2232167, y=2750817: closest beacon is at x=2453611, y=3029623\n",
    "Sensor at x=157988, y=333826: closest beacon is at x=-1236383, y=477990\n",
    "Sensor at x=1035254, y=2261267: closest beacon is at x=1908435, y=2403457\n",
    "Sensor at x=1154009, y=888885: closest beacon is at x=1070922, y=-543463\n",
    "Sensor at x=2704724, y=257848: closest beacon is at x=3428489, y=-741777\n",
    "Sensor at x=3672526, y=2651153: closest beacon is at x=3420256, y=2939344\n",
    "Sensor at x=2030614, y=2603134: closest beacon is at x=1908435, y=2403457\n",
    "Sensor at x=2550448, y=2781018: closest beacon is at x=2453611, y=3029623\n",
    "Sensor at x=3162759, y=2196461: closest beacon is at x=3691788, y=1874066\n",
    "Sensor at x=463834, y=1709480: closest beacon is at x=-208427, y=2000000\n",
    "Sensor at x=217427, y=2725325: closest beacon is at x=-208427, y=2000000\n",
    "Sensor at x=3903198, y=945190: closest beacon is at x=3691788, y=1874066'''"
   ]
  },
  {
   "cell_type": "code",
   "execution_count": null,
   "id": "6a827657-6f06-4f9a-8951-32a8d45cf439",
   "metadata": {},
   "outputs": [],
   "source": []
  }
 ],
 "metadata": {
  "kernelspec": {
   "display_name": "Python 3",
   "language": "python",
   "name": "python3"
  },
  "language_info": {
   "codemirror_mode": {
    "name": "ipython",
    "version": 3
   },
   "file_extension": ".py",
   "mimetype": "text/x-python",
   "name": "python",
   "nbconvert_exporter": "python",
   "pygments_lexer": "ipython3",
   "version": "3.8.15"
  }
 },
 "nbformat": 4,
 "nbformat_minor": 5
}
